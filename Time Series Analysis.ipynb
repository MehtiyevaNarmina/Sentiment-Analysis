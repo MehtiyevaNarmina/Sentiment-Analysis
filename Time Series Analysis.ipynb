{
 "cells": [
  {
   "cell_type": "code",
   "execution_count": 12,
   "metadata": {},
   "outputs": [],
   "source": [
    "import pandas as pd"
   ]
  },
  {
   "cell_type": "code",
   "execution_count": 13,
   "metadata": {},
   "outputs": [],
   "source": [
    "df = pd.read_csv('Alibaba.csv')"
   ]
  },
  {
   "cell_type": "code",
   "execution_count": 17,
   "metadata": {},
   "outputs": [
    {
     "ename": "NameError",
     "evalue": "name 'csv_files' is not defined",
     "output_type": "error",
     "traceback": [
      "\u001b[1;31m---------------------------------------------------------------------------\u001b[0m",
      "\u001b[1;31mNameError\u001b[0m                                 Traceback (most recent call last)",
      "Cell \u001b[1;32mIn[17], line 1\u001b[0m\n\u001b[1;32m----> 1\u001b[0m csv_data \u001b[38;5;241m=\u001b[39m [pd\u001b[38;5;241m.\u001b[39mread_csv(file) \u001b[38;5;28;01mfor\u001b[39;00m file \u001b[38;5;129;01min\u001b[39;00m csv_files]\n",
      "\u001b[1;31mNameError\u001b[0m: name 'csv_files' is not defined"
     ]
    }
   ],
   "source": [
    "csv_data = [pd.read_csv(file) for file in csv_files]"
   ]
  },
  {
   "cell_type": "code",
   "execution_count": null,
   "metadata": {},
   "outputs": [],
   "source": [
    "combined_df = pd.concat(csv_data + json_data, ignore_index=True)"
   ]
  },
  {
   "cell_type": "code",
   "execution_count": 14,
   "metadata": {},
   "outputs": [
    {
     "data": {
      "text/html": [
       "<div>\n",
       "<style scoped>\n",
       "    .dataframe tbody tr th:only-of-type {\n",
       "        vertical-align: middle;\n",
       "    }\n",
       "\n",
       "    .dataframe tbody tr th {\n",
       "        vertical-align: top;\n",
       "    }\n",
       "\n",
       "    .dataframe thead th {\n",
       "        text-align: right;\n",
       "    }\n",
       "</style>\n",
       "<table border=\"1\" class=\"dataframe\">\n",
       "  <thead>\n",
       "    <tr style=\"text-align: right;\">\n",
       "      <th></th>\n",
       "      <th>reviewId</th>\n",
       "      <th>content</th>\n",
       "      <th>score</th>\n",
       "      <th>thumbsUpCount</th>\n",
       "      <th>at</th>\n",
       "      <th>replyContent</th>\n",
       "      <th>repliedAt</th>\n",
       "      <th>appName</th>\n",
       "    </tr>\n",
       "  </thead>\n",
       "  <tbody>\n",
       "    <tr>\n",
       "      <th>0</th>\n",
       "      <td>275f465b-a58b-439e-ae7c-f9f6dcf2634d</td>\n",
       "      <td>Trying to use the on website is almost impossi...</td>\n",
       "      <td>1</td>\n",
       "      <td>39</td>\n",
       "      <td>1720995717000</td>\n",
       "      <td>Hi, we are sorry to hear that. Do share additi...</td>\n",
       "      <td>1.721048e+12</td>\n",
       "      <td>Alibaba</td>\n",
       "    </tr>\n",
       "    <tr>\n",
       "      <th>1</th>\n",
       "      <td>e6c13852-277e-451a-b8d5-dd92aea75402</td>\n",
       "      <td>Had to uninstall due to the amount of notifica...</td>\n",
       "      <td>3</td>\n",
       "      <td>60</td>\n",
       "      <td>1720501958000</td>\n",
       "      <td>Hi, we are sorry to hear that. Do share additi...</td>\n",
       "      <td>1.721051e+12</td>\n",
       "      <td>Alibaba</td>\n",
       "    </tr>\n",
       "    <tr>\n",
       "      <th>2</th>\n",
       "      <td>254b3705-c54b-4ce4-8982-5b468d38231d</td>\n",
       "      <td>I order and it takes too long the shpping days...</td>\n",
       "      <td>1</td>\n",
       "      <td>7</td>\n",
       "      <td>1721866371000</td>\n",
       "      <td>NaN</td>\n",
       "      <td>NaN</td>\n",
       "      <td>Alibaba</td>\n",
       "    </tr>\n",
       "    <tr>\n",
       "      <th>3</th>\n",
       "      <td>c83c1e64-6aa3-42e8-9a56-0385a297b87b</td>\n",
       "      <td>Buyer beware! They have tons of listings that ...</td>\n",
       "      <td>1</td>\n",
       "      <td>2301</td>\n",
       "      <td>1611569460000</td>\n",
       "      <td>NaN</td>\n",
       "      <td>NaN</td>\n",
       "      <td>Alibaba</td>\n",
       "    </tr>\n",
       "    <tr>\n",
       "      <th>4</th>\n",
       "      <td>7a65dce8-3f09-4e4e-a263-55efebc13c65</td>\n",
       "      <td>It's all around a great app except for the fac...</td>\n",
       "      <td>4</td>\n",
       "      <td>1859</td>\n",
       "      <td>1545438323000</td>\n",
       "      <td>Thanks for your feedback. Could you tell us mo...</td>\n",
       "      <td>1.515586e+12</td>\n",
       "      <td>Alibaba</td>\n",
       "    </tr>\n",
       "  </tbody>\n",
       "</table>\n",
       "</div>"
      ],
      "text/plain": [
       "                               reviewId  \\\n",
       "0  275f465b-a58b-439e-ae7c-f9f6dcf2634d   \n",
       "1  e6c13852-277e-451a-b8d5-dd92aea75402   \n",
       "2  254b3705-c54b-4ce4-8982-5b468d38231d   \n",
       "3  c83c1e64-6aa3-42e8-9a56-0385a297b87b   \n",
       "4  7a65dce8-3f09-4e4e-a263-55efebc13c65   \n",
       "\n",
       "                                             content  score  thumbsUpCount  \\\n",
       "0  Trying to use the on website is almost impossi...      1             39   \n",
       "1  Had to uninstall due to the amount of notifica...      3             60   \n",
       "2  I order and it takes too long the shpping days...      1              7   \n",
       "3  Buyer beware! They have tons of listings that ...      1           2301   \n",
       "4  It's all around a great app except for the fac...      4           1859   \n",
       "\n",
       "              at                                       replyContent  \\\n",
       "0  1720995717000  Hi, we are sorry to hear that. Do share additi...   \n",
       "1  1720501958000  Hi, we are sorry to hear that. Do share additi...   \n",
       "2  1721866371000                                                NaN   \n",
       "3  1611569460000                                                NaN   \n",
       "4  1545438323000  Thanks for your feedback. Could you tell us mo...   \n",
       "\n",
       "      repliedAt  appName  \n",
       "0  1.721048e+12  Alibaba  \n",
       "1  1.721051e+12  Alibaba  \n",
       "2           NaN  Alibaba  \n",
       "3           NaN  Alibaba  \n",
       "4  1.515586e+12  Alibaba  "
      ]
     },
     "execution_count": 14,
     "metadata": {},
     "output_type": "execute_result"
    }
   ],
   "source": [
    "df.head()"
   ]
  },
  {
   "cell_type": "code",
   "execution_count": 15,
   "metadata": {},
   "outputs": [
    {
     "data": {
      "text/plain": [
       "reviewId             0\n",
       "content              0\n",
       "score                0\n",
       "thumbsUpCount        0\n",
       "at                   0\n",
       "replyContent     86174\n",
       "repliedAt        86174\n",
       "appName              0\n",
       "dtype: int64"
      ]
     },
     "execution_count": 15,
     "metadata": {},
     "output_type": "execute_result"
    }
   ],
   "source": [
    "df.isnull().sum()"
   ]
  },
  {
   "cell_type": "code",
   "execution_count": 16,
   "metadata": {},
   "outputs": [
    {
     "data": {
      "text/plain": [
       "(94500, 8)"
      ]
     },
     "execution_count": 16,
     "metadata": {},
     "output_type": "execute_result"
    }
   ],
   "source": [
    "df.shape"
   ]
  },
  {
   "cell_type": "code",
   "execution_count": null,
   "metadata": {},
   "outputs": [],
   "source": []
  }
 ],
 "metadata": {
  "kernelspec": {
   "display_name": "Python 3",
   "language": "python",
   "name": "python3"
  },
  "language_info": {
   "codemirror_mode": {
    "name": "ipython",
    "version": 3
   },
   "file_extension": ".py",
   "mimetype": "text/x-python",
   "name": "python",
   "nbconvert_exporter": "python",
   "pygments_lexer": "ipython3",
   "version": "3.12.7"
  }
 },
 "nbformat": 4,
 "nbformat_minor": 2
}
